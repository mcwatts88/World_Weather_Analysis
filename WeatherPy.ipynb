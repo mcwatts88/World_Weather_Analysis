{
 "cells": [
  {
   "cell_type": "code",
   "execution_count": 1,
   "id": "aa377da1",
   "metadata": {},
   "outputs": [],
   "source": [
    "# Import dependencies\n",
    "\n",
    "import pandas as pd\n",
    "\n",
    "import matplotlib.pyplot as plt\n",
    "\n",
    "import numpy as np"
   ]
  },
  {
   "cell_type": "code",
   "execution_count": 3,
   "id": "ed496847",
   "metadata": {},
   "outputs": [
    {
     "data": {
      "text/plain": [
       "<zip at 0x21e3220dc48>"
      ]
     },
     "execution_count": 3,
     "metadata": {},
     "output_type": "execute_result"
    }
   ],
   "source": [
    "lats = np.random.uniform(low=-90.000, high=90.000, size=1500)\n",
    "\n",
    "lngs = np.random.uniform(low=-180.000, high=180.000, size=1500)\n",
    "\n",
    "lat_lngs = zip(lats, lngs)\n",
    "\n",
    "lat_lngs"
   ]
  },
  {
   "cell_type": "code",
   "execution_count": 6,
   "id": "58ad4f8d",
   "metadata": {},
   "outputs": [],
   "source": [
    "coordinates = list(lat_lngs)"
   ]
  },
  {
   "cell_type": "code",
   "execution_count": 7,
   "id": "785a8661",
   "metadata": {},
   "outputs": [],
   "source": [
    "from citipy import citipy"
   ]
  },
  {
   "cell_type": "code",
   "execution_count": 8,
   "id": "aa0e0f42",
   "metadata": {},
   "outputs": [
    {
     "data": {
      "text/plain": [
       "657"
      ]
     },
     "execution_count": 8,
     "metadata": {},
     "output_type": "execute_result"
    }
   ],
   "source": [
    "# Create a list for the cities\n",
    "\n",
    "cities = []\n",
    "\n",
    "# Identify closest city for each lat and long combination\n",
    "\n",
    "for coordinate in coordinates:\n",
    "    \n",
    "    city = citipy.nearest_city(coordinate[0], coordinate[1]).city_name\n",
    "    \n",
    "    \n",
    "    # If the city is unique then add it to the list\n",
    "    \n",
    "    if city not in cities:\n",
    "        \n",
    "        cities.append(city)\n",
    "        \n",
    "# Print the city count to confirm sufficient count\n",
    "\n",
    "len(cities)"
   ]
  },
  {
   "cell_type": "code",
   "execution_count": null,
   "id": "43ca4a56",
   "metadata": {},
   "outputs": [],
   "source": []
  }
 ],
 "metadata": {
  "kernelspec": {
   "display_name": "PythonData",
   "language": "python",
   "name": "pythondata"
  },
  "language_info": {
   "codemirror_mode": {
    "name": "ipython",
    "version": 3
   },
   "file_extension": ".py",
   "mimetype": "text/x-python",
   "name": "python",
   "nbconvert_exporter": "python",
   "pygments_lexer": "ipython3",
   "version": "3.7.13"
  }
 },
 "nbformat": 4,
 "nbformat_minor": 5
}
